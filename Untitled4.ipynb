{
 "cells": [
  {
   "cell_type": "code",
   "execution_count": 1,
   "id": "19dd0dab",
   "metadata": {},
   "outputs": [],
   "source": [
    "import pandas as pd\n",
    "import numpy as np\n",
    "from numpy.random import randint\n",
    "columns= ['W', 'X', 'Y', 'Z'] # four columns\n",
    "index= ['A', 'B', 'C', 'D', 'E'] # five rows"
   ]
  },
  {
   "cell_type": "code",
   "execution_count": 2,
   "id": "6ef07031",
   "metadata": {},
   "outputs": [],
   "source": [
    "np.random.seed(42)\n",
    "data = randint(-100,100,(5,4))"
   ]
  },
  {
   "cell_type": "code",
   "execution_count": 3,
   "id": "9ee0478b",
   "metadata": {},
   "outputs": [
    {
     "data": {
      "text/plain": [
       "array([[  2,  79,  -8, -86],\n",
       "       [  6, -29,  88, -80],\n",
       "       [  2,  21, -26, -13],\n",
       "       [ 16,  -1,   3,  51],\n",
       "       [ 30,  49, -48, -99]])"
      ]
     },
     "execution_count": 3,
     "metadata": {},
     "output_type": "execute_result"
    }
   ],
   "source": [
    "data"
   ]
  },
  {
   "cell_type": "code",
   "execution_count": 4,
   "id": "e808f865",
   "metadata": {},
   "outputs": [],
   "source": [
    "df = pd.DataFrame(data,index,columns)"
   ]
  },
  {
   "cell_type": "code",
   "execution_count": 5,
   "id": "be9e9add",
   "metadata": {},
   "outputs": [
    {
     "data": {
      "text/html": [
       "<div>\n",
       "<style scoped>\n",
       "    .dataframe tbody tr th:only-of-type {\n",
       "        vertical-align: middle;\n",
       "    }\n",
       "\n",
       "    .dataframe tbody tr th {\n",
       "        vertical-align: top;\n",
       "    }\n",
       "\n",
       "    .dataframe thead th {\n",
       "        text-align: right;\n",
       "    }\n",
       "</style>\n",
       "<table border=\"1\" class=\"dataframe\">\n",
       "  <thead>\n",
       "    <tr style=\"text-align: right;\">\n",
       "      <th></th>\n",
       "      <th>W</th>\n",
       "      <th>X</th>\n",
       "      <th>Y</th>\n",
       "      <th>Z</th>\n",
       "    </tr>\n",
       "  </thead>\n",
       "  <tbody>\n",
       "    <tr>\n",
       "      <th>A</th>\n",
       "      <td>2</td>\n",
       "      <td>79</td>\n",
       "      <td>-8</td>\n",
       "      <td>-86</td>\n",
       "    </tr>\n",
       "    <tr>\n",
       "      <th>B</th>\n",
       "      <td>6</td>\n",
       "      <td>-29</td>\n",
       "      <td>88</td>\n",
       "      <td>-80</td>\n",
       "    </tr>\n",
       "    <tr>\n",
       "      <th>C</th>\n",
       "      <td>2</td>\n",
       "      <td>21</td>\n",
       "      <td>-26</td>\n",
       "      <td>-13</td>\n",
       "    </tr>\n",
       "    <tr>\n",
       "      <th>D</th>\n",
       "      <td>16</td>\n",
       "      <td>-1</td>\n",
       "      <td>3</td>\n",
       "      <td>51</td>\n",
       "    </tr>\n",
       "    <tr>\n",
       "      <th>E</th>\n",
       "      <td>30</td>\n",
       "      <td>49</td>\n",
       "      <td>-48</td>\n",
       "      <td>-99</td>\n",
       "    </tr>\n",
       "  </tbody>\n",
       "</table>\n",
       "</div>"
      ],
      "text/plain": [
       "    W   X   Y   Z\n",
       "A   2  79  -8 -86\n",
       "B   6 -29  88 -80\n",
       "C   2  21 -26 -13\n",
       "D  16  -1   3  51\n",
       "E  30  49 -48 -99"
      ]
     },
     "execution_count": 5,
     "metadata": {},
     "output_type": "execute_result"
    }
   ],
   "source": [
    "df"
   ]
  },
  {
   "cell_type": "code",
   "execution_count": 6,
   "id": "c7f8b9ce",
   "metadata": {},
   "outputs": [],
   "source": [
    "np.random.seed(42)\n",
    "data = randint(-50,200,(5,4))"
   ]
  },
  {
   "cell_type": "code",
   "execution_count": 7,
   "id": "845b1bde",
   "metadata": {},
   "outputs": [
    {
     "data": {
      "text/plain": [
       "array([[  2,  79,  -8, -86],\n",
       "       [  6, -29,  88, -80],\n",
       "       [  2,  21, -26, -13],\n",
       "       [ 16,  -1,   3,  51],\n",
       "       [ 30,  49, -48, -99]])"
      ]
     },
     "execution_count": 7,
     "metadata": {},
     "output_type": "execute_result"
    }
   ],
   "source": [
    "data"
   ]
  },
  {
   "cell_type": "code",
   "execution_count": 8,
   "id": "f258ad95",
   "metadata": {},
   "outputs": [],
   "source": [
    "np.random.seed(42)\n",
    "data = randint(-50,200,(5,4))"
   ]
  },
  {
   "cell_type": "code",
   "execution_count": 9,
   "id": "4f5bf010",
   "metadata": {},
   "outputs": [
    {
     "data": {
      "text/plain": [
       "array([[ 52, 129,  42, -36],\n",
       "       [ 56,  21, 138, -30],\n",
       "       [ 52,  71, 160, 164],\n",
       "       [ 24, 152,  37,  66],\n",
       "       [ 49,  53, 101,  80]])"
      ]
     },
     "execution_count": 9,
     "metadata": {},
     "output_type": "execute_result"
    }
   ],
   "source": [
    "data"
   ]
  },
  {
   "cell_type": "code",
   "execution_count": 10,
   "id": "89c4354c",
   "metadata": {},
   "outputs": [
    {
     "data": {
      "text/plain": [
       "array([[ 52, 129,  42, -36],\n",
       "       [ 56,  21, 138, -30],\n",
       "       [ 52,  71, 160, 164],\n",
       "       [ 24, 152,  37,  66],\n",
       "       [ 49,  53, 101,  80]])"
      ]
     },
     "execution_count": 10,
     "metadata": {},
     "output_type": "execute_result"
    }
   ],
   "source": [
    "np.random.seed(42)\n",
    "data = randint(-50,200,(5,4))\n",
    "data"
   ]
  },
  {
   "cell_type": "code",
   "execution_count": 11,
   "id": "60551307",
   "metadata": {},
   "outputs": [
    {
     "data": {
      "text/plain": [
       "array([[  2,  79,  -8, -86],\n",
       "       [  6, -29,  88, -80],\n",
       "       [  2,  21, -26, -13],\n",
       "       [ 16,  -1,   3,  51],\n",
       "       [ 30,  49, -48, -99]])"
      ]
     },
     "execution_count": 11,
     "metadata": {},
     "output_type": "execute_result"
    }
   ],
   "source": [
    "np.random.seed(61)\n",
    "data = randint(-100,100,(5,4))\n",
    "data"
   ]
  },
  {
   "cell_type": "code",
   "execution_count": 12,
   "id": "d6a61deb",
   "metadata": {},
   "outputs": [
    {
     "data": {
      "text/plain": [
       "array([[ -1, -82,  62, -84],\n",
       "       [ 75, -66,  23, -58],\n",
       "       [-35,  19, -31,  73],\n",
       "       [ 11,   8, -49, -52],\n",
       "       [ 85, -90,  47, -21]])"
      ]
     },
     "execution_count": 12,
     "metadata": {},
     "output_type": "execute_result"
    }
   ],
   "source": [
    "np.random.seed(61)\n",
    "data = randint(-100,100,(5,4))\n",
    "data"
   ]
  },
  {
   "cell_type": "code",
   "execution_count": 13,
   "id": "c16afd98",
   "metadata": {},
   "outputs": [
    {
     "data": {
      "text/plain": [
       "array([[ -1, -82,  62, -84],\n",
       "       [ 75, -66,  23, -58],\n",
       "       [-35,  19, -31,  73],\n",
       "       [ 11,   8, -49, -52],\n",
       "       [ 85, -90,  47, -21]])"
      ]
     },
     "execution_count": 13,
     "metadata": {},
     "output_type": "execute_result"
    }
   ],
   "source": [
    "np.random.seed(61)\n",
    "data = randint(-100,100,(5,4))\n",
    "data"
   ]
  },
  {
   "cell_type": "code",
   "execution_count": 14,
   "id": "07637d71",
   "metadata": {},
   "outputs": [
    {
     "data": {
      "text/plain": [
       "array([[  2,  79,  -8, -86],\n",
       "       [  6, -29,  88, -80],\n",
       "       [  2,  21, -26, -13],\n",
       "       [ 16,  -1,   3,  51],\n",
       "       [ 30,  49, -48, -99]])"
      ]
     },
     "execution_count": 14,
     "metadata": {},
     "output_type": "execute_result"
    }
   ],
   "source": [
    "np.random.seed(42)\n",
    "data = randint(-100,100,(5,4))\n",
    "data"
   ]
  },
  {
   "cell_type": "code",
   "execution_count": 15,
   "id": "eac4a23a",
   "metadata": {},
   "outputs": [
    {
     "data": {
      "text/plain": [
       "array([[-97,  95,  -1,  94],\n",
       "       [-67,  62,  -8,  68],\n",
       "       [-70, -73,  13,  60],\n",
       "       [ 50,  87, -71, -23],\n",
       "       [ 53,  37, -40, -52]])"
      ]
     },
     "execution_count": 15,
     "metadata": {},
     "output_type": "execute_result"
    }
   ],
   "source": [
    "np.random.seed()\n",
    "data = randint(-100,100,(5,4))\n",
    "data"
   ]
  },
  {
   "cell_type": "code",
   "execution_count": null,
   "id": "0402508d",
   "metadata": {},
   "outputs": [],
   "source": []
  },
  {
   "cell_type": "code",
   "execution_count": 16,
   "id": "80bbb581",
   "metadata": {},
   "outputs": [
    {
     "data": {
      "text/plain": [
       "array([[ -1, -82,  62, -84],\n",
       "       [ 75, -66,  23, -58],\n",
       "       [-35,  19, -31,  73],\n",
       "       [ 11,   8, -49, -52],\n",
       "       [ 85, -90,  47, -21]])"
      ]
     },
     "execution_count": 16,
     "metadata": {},
     "output_type": "execute_result"
    }
   ],
   "source": [
    "np.random.seed(61)\n",
    "data = randint(-100,100,(5,4))\n",
    "data"
   ]
  },
  {
   "cell_type": "code",
   "execution_count": 17,
   "id": "7cc4c9a6",
   "metadata": {},
   "outputs": [
    {
     "data": {
      "text/plain": [
       "array([[ -1, -82,  62, -84],\n",
       "       [ 75, -66,  23, -58],\n",
       "       [-35,  19, -31,  73],\n",
       "       [ 11,   8, -49, -52],\n",
       "       [ 85, -90,  47, -21]])"
      ]
     },
     "execution_count": 17,
     "metadata": {},
     "output_type": "execute_result"
    }
   ],
   "source": [
    "np.random.seed(61)\n",
    "data = randint(-100,100,(5,4))\n",
    "data"
   ]
  },
  {
   "cell_type": "code",
   "execution_count": 18,
   "id": "79893c58",
   "metadata": {},
   "outputs": [
    {
     "data": {
      "text/plain": [
       "array([[ -1, -82,  62, -84],\n",
       "       [ 75, -66,  23, -58],\n",
       "       [-35,  19, -31,  73],\n",
       "       [ 11,   8, -49, -52],\n",
       "       [ 85, -90,  47, -21]])"
      ]
     },
     "execution_count": 18,
     "metadata": {},
     "output_type": "execute_result"
    }
   ],
   "source": [
    "np.random.seed(61)\n",
    "data = randint(-100,100,(5,4))\n",
    "data"
   ]
  },
  {
   "cell_type": "code",
   "execution_count": null,
   "id": "77078821",
   "metadata": {},
   "outputs": [],
   "source": []
  },
  {
   "cell_type": "code",
   "execution_count": 19,
   "id": "e81879ae",
   "metadata": {},
   "outputs": [
    {
     "data": {
      "text/plain": [
       "array([[ -1, -82,  62, -84],\n",
       "       [ 75, -66,  23, -58],\n",
       "       [-35,  19, -31,  73],\n",
       "       [ 11,   8, -49, -52],\n",
       "       [ 85, -90,  47, -21]])"
      ]
     },
     "execution_count": 19,
     "metadata": {},
     "output_type": "execute_result"
    }
   ],
   "source": [
    "np.random.seed(61)\n",
    "data = randint(-100,100,(5,4))\n",
    "data"
   ]
  },
  {
   "cell_type": "code",
   "execution_count": 20,
   "id": "815f34c4",
   "metadata": {},
   "outputs": [
    {
     "data": {
      "text/plain": [
       "array([[ -1, -82,  62, -84],\n",
       "       [ 75, -66,  23, -58],\n",
       "       [-35,  19, -31,  73],\n",
       "       [ 11,   8, -49, -52],\n",
       "       [ 85, -90,  47, -21]])"
      ]
     },
     "execution_count": 20,
     "metadata": {},
     "output_type": "execute_result"
    }
   ],
   "source": [
    "np.random.seed(61)\n",
    "data = randint(-100,100,(5,4))\n",
    "data"
   ]
  },
  {
   "cell_type": "code",
   "execution_count": null,
   "id": "22f415d7",
   "metadata": {},
   "outputs": [],
   "source": []
  }
 ],
 "metadata": {
  "kernelspec": {
   "display_name": "Python 3 (ipykernel)",
   "language": "python",
   "name": "python3"
  },
  "language_info": {
   "codemirror_mode": {
    "name": "ipython",
    "version": 3
   },
   "file_extension": ".py",
   "mimetype": "text/x-python",
   "name": "python",
   "nbconvert_exporter": "python",
   "pygments_lexer": "ipython3",
   "version": "3.9.13"
  }
 },
 "nbformat": 4,
 "nbformat_minor": 5
}
